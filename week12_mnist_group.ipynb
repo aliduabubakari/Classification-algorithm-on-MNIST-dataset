{
  "cells": [
    {
      "cell_type": "markdown",
      "source": [
        "For todays group work, you will be writing simple Python functions to shift our image in various directions. \n",
        "\n",
        "Shifting our image would help increase the amount of data we have available for training, and could in turn help increase the accuracy of our model.\n",
        "\n",
        "\n",
        "### 1. Load Data\n",
        "\n",
        "Let us load our data from the scki-kit (sklearn) library and take a look at one of the images in our dataset. \n",
        "\n",
        "**Note** The goal of this group work is solely to understand how to shift an image thus, we are not required to split our dataset as we would only focus on a few digits in our dataset."
      ],
      "metadata": {
        "id": "fD9Xs0XCfUnw"
      }
    },
    {
      "cell_type": "code",
      "source": [
        "import numpy as np\n",
        "import pandas as pd\n",
        "from scipy.ndimage.interpolation import shift\n",
        "from sklearn.datasets import fetch_openml\n",
        "\n",
        "import matplotlib as mpl\n",
        "import matplotlib.pyplot as plt"
      ],
      "metadata": {
        "id": "6dVv6ZPGdkUG"
      },
      "execution_count": null,
      "outputs": []
    },
    {
      "cell_type": "code",
      "source": [
        "mnist = mnist = fetch_openml('mnist_784', version=1)\n",
        "type(mnist)"
      ],
      "metadata": {
        "id": "uSKQ68aUdlPW"
      },
      "execution_count": null,
      "outputs": []
    },
    {
      "cell_type": "code",
      "source": [
        "X, y = mnist[\"data\"], mnist[\"target\"]"
      ],
      "metadata": {
        "id": "CSsNGDvZdndR"
      },
      "execution_count": null,
      "outputs": []
    },
    {
      "cell_type": "code",
      "source": [
        "X.head()"
      ],
      "metadata": {
        "id": "V6--oEBEd7w-"
      },
      "execution_count": null,
      "outputs": []
    },
    {
      "cell_type": "code",
      "source": [
        "y.head()"
      ],
      "metadata": {
        "id": "K0CwJCdXeA3l"
      },
      "execution_count": null,
      "outputs": []
    },
    {
      "cell_type": "markdown",
      "source": [
        "First let's take a peek at a few digits in our dataset."
      ],
      "metadata": {
        "id": "cNOgrAybhBAc"
      }
    },
    {
      "cell_type": "code",
      "source": [
        "some_digit = X.iloc[0, :].values\n",
        "some_digit_image = some_digit.reshape(28, 28)\n",
        "\n",
        "plt.imshow(some_digit_image, cmap = mpl.cm.binary, interpolation=\"nearest\")\n",
        "plt.axis(\"off\")\n",
        "plt.show()"
      ],
      "metadata": {
        "id": "OLhjn6KveA1O"
      },
      "execution_count": null,
      "outputs": []
    },
    {
      "cell_type": "code",
      "source": [
        "some_digit = X.iloc[1, :].values\n",
        "some_digit_image = some_digit.reshape(28, 28)\n",
        "\n",
        "plt.imshow(some_digit_image, cmap = mpl.cm.binary, interpolation=\"nearest\")\n",
        "plt.axis(\"off\")\n",
        "plt.show()"
      ],
      "metadata": {
        "id": "tML6FpNleAzF"
      },
      "execution_count": null,
      "outputs": []
    },
    {
      "cell_type": "markdown",
      "source": [
        "Now we know what 2 of the digits in our dataset look like. We are going to complete a function to shift these images up then take another look at the results.\n",
        "\n",
        "### 2. Shifting images\n",
        "\n",
        "#### 2.1 Shift Image Up\n",
        "\n",
        "First, Let's pick a digit and reshape it into the required format (i.e., 784 pixels which is 28 by 28)"
      ],
      "metadata": {
        "id": "qzN_Vi6Mhctl"
      }
    },
    {
      "cell_type": "code",
      "source": [
        "# Reshaping Image for Digit: 5\n",
        "\n",
        "image = X.iloc[0, :].values\n",
        "shaped_image = image.reshape((28, 28))"
      ],
      "metadata": {
        "id": "6aBhFsmJiHCW"
      },
      "execution_count": null,
      "outputs": []
    },
    {
      "cell_type": "markdown",
      "source": [
        "Now let's shift the image up and take a look at what happens. To make easier to notice the changes that are happening, the image would be shifted upward by 5 pixels"
      ],
      "metadata": {
        "id": "5192BKaWipxw"
      }
    },
    {
      "cell_type": "code",
      "source": [
        "shifted_image = shift(input=shaped_image, shift=[-5, 0], cval=0, mode=\"constant\")\n",
        "\n",
        "# Reshape image to have it in the same shape as the original digit before it was shaped as an image\n",
        "shifted_image = shifted_image.reshape([-1])"
      ],
      "metadata": {
        "id": "cz6HvmaIinCv"
      },
      "execution_count": null,
      "outputs": []
    },
    {
      "cell_type": "markdown",
      "source": [
        "The parameters for the shift function are explained as follows\n",
        "\n",
        "**input**: takes the image we are trying to shift\n",
        "\n",
        "**shift**: specified how we want to shift the image. The values given show how far to shift the image up, then down _[direction up, direction down]_\n",
        "\n",
        "**cval**: Value to replace null fields with after shifting image. Currently relaced with a 0 that would result in white shapes\n",
        "\n",
        "mode: How our input is extended beyond the boundaries. Constant indicates that we want to fill the images with the same constant value\n"
      ],
      "metadata": {
        "id": "csI8aQGqjWxk"
      }
    },
    {
      "cell_type": "markdown",
      "source": [
        "Now let's check the changes that have been made to our image by viewing it"
      ],
      "metadata": {
        "id": "Znjf4G8FlYJH"
      }
    },
    {
      "cell_type": "code",
      "source": [
        "plt.imshow(shifted_image.reshape(28, 28), cmap = mpl.cm.binary, interpolation=\"nearest\")\n",
        "plt.axis(\"off\")\n",
        "plt.show()"
      ],
      "metadata": {
        "id": "i3IMTDuWjTGM"
      },
      "execution_count": null,
      "outputs": []
    },
    {
      "cell_type": "markdown",
      "source": [
        "We can clearly see the changes that have occured. Now let's put this in a function so that it's reusable and can be applied to multiple images from our dataset."
      ],
      "metadata": {
        "id": "sjmwHsnKll3z"
      }
    },
    {
      "cell_type": "code",
      "source": [
        "# Function to shift image up by 1 pixel by default\n",
        "\n",
        "def shift_image_up(image):\n",
        "    image = image.reshape((28, 28))\n",
        "    shifted_image = shift(input=image, shift=[-1, 0], cval=0, mode=\"constant\")\n",
        "    \n",
        "    return shifted_image.reshape([-1])"
      ],
      "metadata": {
        "id": "n8Am94HjeAwp"
      },
      "execution_count": null,
      "outputs": []
    },
    {
      "cell_type": "code",
      "source": [
        "# Testing function on another digit then viewing image\n",
        "\n",
        "shifted_image = shift_image_up(X.iloc[1, :].values)\n",
        "reshaped_shifted_image = shifted_image.reshape(28, 28)\n",
        "\n",
        "plt.imshow(reshaped_shifted_image, cmap = mpl.cm.binary, interpolation=\"nearest\")\n",
        "plt.axis(\"off\")\n",
        "plt.show()"
      ],
      "metadata": {
        "id": "8IPIRusGeddD"
      },
      "execution_count": null,
      "outputs": []
    },
    {
      "cell_type": "markdown",
      "source": [
        "Our function works correctly! Now, lets replicate this for shifting images down, to the right, then to the left.\n",
        "\n",
        "**Note** Remember that the direction for shifting the image is represented as a [x, y] array in the shift parameter of the shift function we are using from sklearn.\n",
        "\n",
        "\n",
        "#### 2.2 Shift Image Down"
      ],
      "metadata": {
        "id": "6mukgiZ6maMl"
      }
    },
    {
      "cell_type": "code",
      "source": [
        "# Shift image down by 1 pixel\n",
        "\n",
        "def shift_image_down(image):\n",
        "    image = image.reshape((28, 28))\n",
        "    shifted_image = shift(input=image, shift=[1, 0], cval=0, mode=\"constant\")\n",
        "\n",
        "    return shifted_image.reshape([-1])"
      ],
      "metadata": {
        "id": "bhhLBwG-edY3"
      },
      "execution_count": null,
      "outputs": []
    },
    {
      "cell_type": "code",
      "source": [
        "# Testing the function\n",
        "\n",
        "shifted_image = shift_image_down(X.iloc[0, :].values)\n",
        "reshaped_shifted_image = shifted_image.reshape(28, 28)\n",
        "\n",
        "plt.imshow(reshaped_shifted_image, cmap = mpl.cm.binary, interpolation=\"nearest\")\n",
        "plt.axis(\"off\")\n",
        "plt.show()"
      ],
      "metadata": {
        "id": "E1vFqAW4edWs"
      },
      "execution_count": null,
      "outputs": []
    },
    {
      "cell_type": "markdown",
      "source": [
        "#### 2.3 Shift Image Right"
      ],
      "metadata": {
        "id": "H5vBPWVonZpt"
      }
    },
    {
      "cell_type": "code",
      "source": [
        "# Shift image right by 1 pixel\n",
        "\n",
        "def shift_image_right(image):\n",
        "    image = image.reshape((28, 28))\n",
        "    shifted_image = shift(input=image, shift=[0, 1], cval=0, mode=\"constant\")\n",
        "\n",
        "    return shifted_image.reshape([-1])"
      ],
      "metadata": {
        "id": "xhAWdcl8edTw"
      },
      "execution_count": null,
      "outputs": []
    },
    {
      "cell_type": "code",
      "source": [
        "# View image for different digit\n",
        "\n",
        "image = X.iloc[5, :].values\n",
        "shaped_image = image.reshape((28, 28))\n",
        "\n",
        "plt.imshow(shaped_image, cmap = mpl.cm.binary, interpolation=\"nearest\")\n",
        "plt.axis(\"off\")\n",
        "plt.show()"
      ],
      "metadata": {
        "id": "XkANzzOcnuxJ"
      },
      "execution_count": null,
      "outputs": []
    },
    {
      "cell_type": "code",
      "source": [
        "# Testing the function\n",
        "\n",
        "shifted_image = shift_image_right(X.iloc[5, :].values)\n",
        "reshaped_shifted_image = shifted_image.reshape(28, 28)\n",
        "\n",
        "plt.imshow(reshaped_shifted_image, cmap = mpl.cm.binary, interpolation=\"nearest\")\n",
        "plt.axis(\"off\")\n",
        "plt.show()"
      ],
      "metadata": {
        "id": "TeWQI5gck3ql"
      },
      "execution_count": null,
      "outputs": []
    },
    {
      "cell_type": "markdown",
      "source": [
        "#### 2.4 Shift Image Left"
      ],
      "metadata": {
        "id": "jkiqE5p8ohFA"
      }
    },
    {
      "cell_type": "code",
      "source": [
        "# Shift image left by 1 pixel\n",
        "\n",
        "def shift_image_left(image):\n",
        "    image = image.reshape((28, 28))\n",
        "    shifted_image = shift(input=image, shift=[0, -1], cval=0, mode=\"constant\")\n",
        "\n",
        "    return shifted_image.reshape([-1])"
      ],
      "metadata": {
        "id": "6-7Okw4ek3oS"
      },
      "execution_count": null,
      "outputs": []
    },
    {
      "cell_type": "code",
      "source": [
        "# View image for different digit\n",
        "\n",
        "image = X.iloc[5, :].values\n",
        "shaped_image = image.reshape((28, 28))\n",
        "\n",
        "plt.imshow(shaped_image, cmap = mpl.cm.binary, interpolation=\"nearest\")\n",
        "plt.axis(\"off\")\n",
        "plt.show()"
      ],
      "metadata": {
        "id": "d5RM0rhEoyhn"
      },
      "execution_count": null,
      "outputs": []
    },
    {
      "cell_type": "code",
      "source": [
        "# Testing the function\n",
        "\n",
        "shifted_image = shift_image_left(X.iloc[5, :].values)\n",
        "shaped_shifted_image = shifted_image.reshape(28, 28)\n",
        "\n",
        "plt.imshow(shaped_shifted_image, cmap = mpl.cm.binary, interpolation=\"nearest\")\n",
        "plt.axis(\"off\")\n",
        "plt.show()"
      ],
      "metadata": {
        "id": "gHDc2eWqk3mU"
      },
      "execution_count": null,
      "outputs": []
    },
    {
      "cell_type": "markdown",
      "source": [
        "### 3. Putting It All Together\n",
        "\n",
        "Now that we have tried and tested our individual functions for shifting our images, let's put them all together into a single function that can carry out the same processes."
      ],
      "metadata": {
        "id": "DJr9GhvzpAsd"
      }
    },
    {
      "cell_type": "code",
      "execution_count": null,
      "metadata": {
        "id": "57jinKB5dfTQ"
      },
      "outputs": [],
      "source": [
        "# Function to shift the image by given dimension\n",
        "\n",
        "def shift_image(image, dx, dy):\n",
        "    image = image.reshape((28, 28))\n",
        "    shifted_image = shift(input=image, shift=[dy, dx], cval=0, mode=\"constant\")\n",
        "    \n",
        "    return shifted_image.reshape([-1])"
      ]
    },
    {
      "cell_type": "markdown",
      "source": [
        "Voila! We now have a single function to shift an image in any direction and by any pixel."
      ],
      "metadata": {
        "id": "09cPCv-Gpgzo"
      }
    },
    {
      "cell_type": "code",
      "source": [
        ""
      ],
      "metadata": {
        "id": "mWwOAtorpmfZ"
      },
      "execution_count": null,
      "outputs": []
    }
  ],
  "metadata": {
    "language_info": {
      "name": "python"
    },
    "orig_nbformat": 4,
    "colab": {
      "name": "week12_mnist_group.ipynb",
      "provenance": []
    },
    "kernelspec": {
      "name": "python3",
      "display_name": "Python 3"
    },
    "gpuClass": "standard"
  },
  "nbformat": 4,
  "nbformat_minor": 0
}